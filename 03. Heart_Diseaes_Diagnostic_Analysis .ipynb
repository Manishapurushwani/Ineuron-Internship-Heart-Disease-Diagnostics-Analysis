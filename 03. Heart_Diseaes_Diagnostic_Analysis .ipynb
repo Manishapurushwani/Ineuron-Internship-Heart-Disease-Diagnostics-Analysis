{
 "cells": [
  {
   "cell_type": "markdown",
   "id": "b61efe1e-9fa5-44ce-9484-ed8ae4656d45",
   "metadata": {},
   "source": [
    "# Heart Disease Diagnostic Analysis\n",
    "\n",
    "#### This notebook aims to perform a comprehensive analysis of the heart disease dataset. We will explore the data, perform statistical analysis, visualize key relationships, and derive insights.\n"
   ]
  },
  {
   "cell_type": "markdown",
   "id": "5d503527-3ba1-4ab4-bf27-f76088647728",
   "metadata": {},
   "source": [
    "## Importing Libraies"
   ]
  },
  {
   "cell_type": "code",
   "execution_count": 1,
   "id": "8593ab9d-2546-4d49-a99d-39290e478b53",
   "metadata": {},
   "outputs": [],
   "source": [
    "import pandas as pd\n",
    "import numpy as np\n",
    "import matplotlib.pyplot as plt\n",
    "import seaborn as sns\n",
    "import warnings"
   ]
  },
  {
   "cell_type": "markdown",
   "id": "915ec62e-1bf1-4ff5-9dfa-6508a221db10",
   "metadata": {},
   "source": [
    "## Data Loading"
   ]
  },
  {
   "cell_type": "code",
   "execution_count": 2,
   "id": "7106d947-7179-4212-814a-4793711a4750",
   "metadata": {},
   "outputs": [
    {
     "ename": "FileNotFoundError",
     "evalue": "[Errno 2] No such file or directory: 'C:/Users/h/Downloads/Heart_Disease_Dataset.csv'",
     "output_type": "error",
     "traceback": [
      "\u001b[1;31m---------------------------------------------------------------------------\u001b[0m",
      "\u001b[1;31mFileNotFoundError\u001b[0m                         Traceback (most recent call last)",
      "Cell \u001b[1;32mIn[2], line 3\u001b[0m\n\u001b[0;32m      1\u001b[0m \u001b[38;5;66;03m# Load the dataset\u001b[39;00m\n\u001b[0;32m      2\u001b[0m file_path \u001b[38;5;241m=\u001b[39m \u001b[38;5;124m\"\u001b[39m\u001b[38;5;124mC://Users//h//Downloads//Heart_Disease_Dataset.csv\u001b[39m\u001b[38;5;124m\"\u001b[39m\n\u001b[1;32m----> 3\u001b[0m data \u001b[38;5;241m=\u001b[39m pd\u001b[38;5;241m.\u001b[39mread_csv(file_path)\n\u001b[0;32m      4\u001b[0m data\u001b[38;5;241m.\u001b[39mhead()\n",
      "File \u001b[1;32m~\\anaconda3\\Lib\\site-packages\\pandas\\io\\parsers\\readers.py:1026\u001b[0m, in \u001b[0;36mread_csv\u001b[1;34m(filepath_or_buffer, sep, delimiter, header, names, index_col, usecols, dtype, engine, converters, true_values, false_values, skipinitialspace, skiprows, skipfooter, nrows, na_values, keep_default_na, na_filter, verbose, skip_blank_lines, parse_dates, infer_datetime_format, keep_date_col, date_parser, date_format, dayfirst, cache_dates, iterator, chunksize, compression, thousands, decimal, lineterminator, quotechar, quoting, doublequote, escapechar, comment, encoding, encoding_errors, dialect, on_bad_lines, delim_whitespace, low_memory, memory_map, float_precision, storage_options, dtype_backend)\u001b[0m\n\u001b[0;32m   1013\u001b[0m kwds_defaults \u001b[38;5;241m=\u001b[39m _refine_defaults_read(\n\u001b[0;32m   1014\u001b[0m     dialect,\n\u001b[0;32m   1015\u001b[0m     delimiter,\n\u001b[1;32m   (...)\u001b[0m\n\u001b[0;32m   1022\u001b[0m     dtype_backend\u001b[38;5;241m=\u001b[39mdtype_backend,\n\u001b[0;32m   1023\u001b[0m )\n\u001b[0;32m   1024\u001b[0m kwds\u001b[38;5;241m.\u001b[39mupdate(kwds_defaults)\n\u001b[1;32m-> 1026\u001b[0m \u001b[38;5;28;01mreturn\u001b[39;00m _read(filepath_or_buffer, kwds)\n",
      "File \u001b[1;32m~\\anaconda3\\Lib\\site-packages\\pandas\\io\\parsers\\readers.py:620\u001b[0m, in \u001b[0;36m_read\u001b[1;34m(filepath_or_buffer, kwds)\u001b[0m\n\u001b[0;32m    617\u001b[0m _validate_names(kwds\u001b[38;5;241m.\u001b[39mget(\u001b[38;5;124m\"\u001b[39m\u001b[38;5;124mnames\u001b[39m\u001b[38;5;124m\"\u001b[39m, \u001b[38;5;28;01mNone\u001b[39;00m))\n\u001b[0;32m    619\u001b[0m \u001b[38;5;66;03m# Create the parser.\u001b[39;00m\n\u001b[1;32m--> 620\u001b[0m parser \u001b[38;5;241m=\u001b[39m TextFileReader(filepath_or_buffer, \u001b[38;5;241m*\u001b[39m\u001b[38;5;241m*\u001b[39mkwds)\n\u001b[0;32m    622\u001b[0m \u001b[38;5;28;01mif\u001b[39;00m chunksize \u001b[38;5;129;01mor\u001b[39;00m iterator:\n\u001b[0;32m    623\u001b[0m     \u001b[38;5;28;01mreturn\u001b[39;00m parser\n",
      "File \u001b[1;32m~\\anaconda3\\Lib\\site-packages\\pandas\\io\\parsers\\readers.py:1620\u001b[0m, in \u001b[0;36mTextFileReader.__init__\u001b[1;34m(self, f, engine, **kwds)\u001b[0m\n\u001b[0;32m   1617\u001b[0m     \u001b[38;5;28mself\u001b[39m\u001b[38;5;241m.\u001b[39moptions[\u001b[38;5;124m\"\u001b[39m\u001b[38;5;124mhas_index_names\u001b[39m\u001b[38;5;124m\"\u001b[39m] \u001b[38;5;241m=\u001b[39m kwds[\u001b[38;5;124m\"\u001b[39m\u001b[38;5;124mhas_index_names\u001b[39m\u001b[38;5;124m\"\u001b[39m]\n\u001b[0;32m   1619\u001b[0m \u001b[38;5;28mself\u001b[39m\u001b[38;5;241m.\u001b[39mhandles: IOHandles \u001b[38;5;241m|\u001b[39m \u001b[38;5;28;01mNone\u001b[39;00m \u001b[38;5;241m=\u001b[39m \u001b[38;5;28;01mNone\u001b[39;00m\n\u001b[1;32m-> 1620\u001b[0m \u001b[38;5;28mself\u001b[39m\u001b[38;5;241m.\u001b[39m_engine \u001b[38;5;241m=\u001b[39m \u001b[38;5;28mself\u001b[39m\u001b[38;5;241m.\u001b[39m_make_engine(f, \u001b[38;5;28mself\u001b[39m\u001b[38;5;241m.\u001b[39mengine)\n",
      "File \u001b[1;32m~\\anaconda3\\Lib\\site-packages\\pandas\\io\\parsers\\readers.py:1880\u001b[0m, in \u001b[0;36mTextFileReader._make_engine\u001b[1;34m(self, f, engine)\u001b[0m\n\u001b[0;32m   1878\u001b[0m     \u001b[38;5;28;01mif\u001b[39;00m \u001b[38;5;124m\"\u001b[39m\u001b[38;5;124mb\u001b[39m\u001b[38;5;124m\"\u001b[39m \u001b[38;5;129;01mnot\u001b[39;00m \u001b[38;5;129;01min\u001b[39;00m mode:\n\u001b[0;32m   1879\u001b[0m         mode \u001b[38;5;241m+\u001b[39m\u001b[38;5;241m=\u001b[39m \u001b[38;5;124m\"\u001b[39m\u001b[38;5;124mb\u001b[39m\u001b[38;5;124m\"\u001b[39m\n\u001b[1;32m-> 1880\u001b[0m \u001b[38;5;28mself\u001b[39m\u001b[38;5;241m.\u001b[39mhandles \u001b[38;5;241m=\u001b[39m get_handle(\n\u001b[0;32m   1881\u001b[0m     f,\n\u001b[0;32m   1882\u001b[0m     mode,\n\u001b[0;32m   1883\u001b[0m     encoding\u001b[38;5;241m=\u001b[39m\u001b[38;5;28mself\u001b[39m\u001b[38;5;241m.\u001b[39moptions\u001b[38;5;241m.\u001b[39mget(\u001b[38;5;124m\"\u001b[39m\u001b[38;5;124mencoding\u001b[39m\u001b[38;5;124m\"\u001b[39m, \u001b[38;5;28;01mNone\u001b[39;00m),\n\u001b[0;32m   1884\u001b[0m     compression\u001b[38;5;241m=\u001b[39m\u001b[38;5;28mself\u001b[39m\u001b[38;5;241m.\u001b[39moptions\u001b[38;5;241m.\u001b[39mget(\u001b[38;5;124m\"\u001b[39m\u001b[38;5;124mcompression\u001b[39m\u001b[38;5;124m\"\u001b[39m, \u001b[38;5;28;01mNone\u001b[39;00m),\n\u001b[0;32m   1885\u001b[0m     memory_map\u001b[38;5;241m=\u001b[39m\u001b[38;5;28mself\u001b[39m\u001b[38;5;241m.\u001b[39moptions\u001b[38;5;241m.\u001b[39mget(\u001b[38;5;124m\"\u001b[39m\u001b[38;5;124mmemory_map\u001b[39m\u001b[38;5;124m\"\u001b[39m, \u001b[38;5;28;01mFalse\u001b[39;00m),\n\u001b[0;32m   1886\u001b[0m     is_text\u001b[38;5;241m=\u001b[39mis_text,\n\u001b[0;32m   1887\u001b[0m     errors\u001b[38;5;241m=\u001b[39m\u001b[38;5;28mself\u001b[39m\u001b[38;5;241m.\u001b[39moptions\u001b[38;5;241m.\u001b[39mget(\u001b[38;5;124m\"\u001b[39m\u001b[38;5;124mencoding_errors\u001b[39m\u001b[38;5;124m\"\u001b[39m, \u001b[38;5;124m\"\u001b[39m\u001b[38;5;124mstrict\u001b[39m\u001b[38;5;124m\"\u001b[39m),\n\u001b[0;32m   1888\u001b[0m     storage_options\u001b[38;5;241m=\u001b[39m\u001b[38;5;28mself\u001b[39m\u001b[38;5;241m.\u001b[39moptions\u001b[38;5;241m.\u001b[39mget(\u001b[38;5;124m\"\u001b[39m\u001b[38;5;124mstorage_options\u001b[39m\u001b[38;5;124m\"\u001b[39m, \u001b[38;5;28;01mNone\u001b[39;00m),\n\u001b[0;32m   1889\u001b[0m )\n\u001b[0;32m   1890\u001b[0m \u001b[38;5;28;01massert\u001b[39;00m \u001b[38;5;28mself\u001b[39m\u001b[38;5;241m.\u001b[39mhandles \u001b[38;5;129;01mis\u001b[39;00m \u001b[38;5;129;01mnot\u001b[39;00m \u001b[38;5;28;01mNone\u001b[39;00m\n\u001b[0;32m   1891\u001b[0m f \u001b[38;5;241m=\u001b[39m \u001b[38;5;28mself\u001b[39m\u001b[38;5;241m.\u001b[39mhandles\u001b[38;5;241m.\u001b[39mhandle\n",
      "File \u001b[1;32m~\\anaconda3\\Lib\\site-packages\\pandas\\io\\common.py:728\u001b[0m, in \u001b[0;36mget_handle\u001b[1;34m(path_or_buf, mode, encoding, compression, memory_map, is_text, errors, storage_options)\u001b[0m\n\u001b[0;32m    725\u001b[0m     codecs\u001b[38;5;241m.\u001b[39mlookup_error(errors)\n\u001b[0;32m    727\u001b[0m \u001b[38;5;66;03m# open URLs\u001b[39;00m\n\u001b[1;32m--> 728\u001b[0m ioargs \u001b[38;5;241m=\u001b[39m _get_filepath_or_buffer(\n\u001b[0;32m    729\u001b[0m     path_or_buf,\n\u001b[0;32m    730\u001b[0m     encoding\u001b[38;5;241m=\u001b[39mencoding,\n\u001b[0;32m    731\u001b[0m     compression\u001b[38;5;241m=\u001b[39mcompression,\n\u001b[0;32m    732\u001b[0m     mode\u001b[38;5;241m=\u001b[39mmode,\n\u001b[0;32m    733\u001b[0m     storage_options\u001b[38;5;241m=\u001b[39mstorage_options,\n\u001b[0;32m    734\u001b[0m )\n\u001b[0;32m    736\u001b[0m handle \u001b[38;5;241m=\u001b[39m ioargs\u001b[38;5;241m.\u001b[39mfilepath_or_buffer\n\u001b[0;32m    737\u001b[0m handles: \u001b[38;5;28mlist\u001b[39m[BaseBuffer]\n",
      "File \u001b[1;32m~\\anaconda3\\Lib\\site-packages\\pandas\\io\\common.py:432\u001b[0m, in \u001b[0;36m_get_filepath_or_buffer\u001b[1;34m(filepath_or_buffer, encoding, compression, mode, storage_options)\u001b[0m\n\u001b[0;32m    427\u001b[0m     \u001b[38;5;28;01mpass\u001b[39;00m\n\u001b[0;32m    429\u001b[0m \u001b[38;5;28;01mtry\u001b[39;00m:\n\u001b[0;32m    430\u001b[0m     file_obj \u001b[38;5;241m=\u001b[39m fsspec\u001b[38;5;241m.\u001b[39mopen(\n\u001b[0;32m    431\u001b[0m         filepath_or_buffer, mode\u001b[38;5;241m=\u001b[39mfsspec_mode, \u001b[38;5;241m*\u001b[39m\u001b[38;5;241m*\u001b[39m(storage_options \u001b[38;5;129;01mor\u001b[39;00m {})\n\u001b[1;32m--> 432\u001b[0m     )\u001b[38;5;241m.\u001b[39mopen()\n\u001b[0;32m    433\u001b[0m \u001b[38;5;66;03m# GH 34626 Reads from Public Buckets without Credentials needs anon=True\u001b[39;00m\n\u001b[0;32m    434\u001b[0m \u001b[38;5;28;01mexcept\u001b[39;00m \u001b[38;5;28mtuple\u001b[39m(err_types_to_retry_with_anon):\n",
      "File \u001b[1;32m~\\anaconda3\\Lib\\site-packages\\fsspec\\core.py:132\u001b[0m, in \u001b[0;36mOpenFile.open\u001b[1;34m(self)\u001b[0m\n\u001b[0;32m    125\u001b[0m \u001b[38;5;28;01mdef\u001b[39;00m \u001b[38;5;21mopen\u001b[39m(\u001b[38;5;28mself\u001b[39m):\n\u001b[0;32m    126\u001b[0m \u001b[38;5;250m    \u001b[39m\u001b[38;5;124;03m\"\"\"Materialise this as a real open file without context\u001b[39;00m\n\u001b[0;32m    127\u001b[0m \n\u001b[0;32m    128\u001b[0m \u001b[38;5;124;03m    The OpenFile object should be explicitly closed to avoid enclosed file\u001b[39;00m\n\u001b[0;32m    129\u001b[0m \u001b[38;5;124;03m    instances persisting. You must, therefore, keep a reference to the OpenFile\u001b[39;00m\n\u001b[0;32m    130\u001b[0m \u001b[38;5;124;03m    during the life of the file-like it generates.\u001b[39;00m\n\u001b[0;32m    131\u001b[0m \u001b[38;5;124;03m    \"\"\"\u001b[39;00m\n\u001b[1;32m--> 132\u001b[0m     \u001b[38;5;28;01mreturn\u001b[39;00m \u001b[38;5;28mself\u001b[39m\u001b[38;5;241m.\u001b[39m\u001b[38;5;21m__enter__\u001b[39m()\n",
      "File \u001b[1;32m~\\anaconda3\\Lib\\site-packages\\fsspec\\core.py:100\u001b[0m, in \u001b[0;36mOpenFile.__enter__\u001b[1;34m(self)\u001b[0m\n\u001b[0;32m     97\u001b[0m \u001b[38;5;28;01mdef\u001b[39;00m \u001b[38;5;21m__enter__\u001b[39m(\u001b[38;5;28mself\u001b[39m):\n\u001b[0;32m     98\u001b[0m     mode \u001b[38;5;241m=\u001b[39m \u001b[38;5;28mself\u001b[39m\u001b[38;5;241m.\u001b[39mmode\u001b[38;5;241m.\u001b[39mreplace(\u001b[38;5;124m\"\u001b[39m\u001b[38;5;124mt\u001b[39m\u001b[38;5;124m\"\u001b[39m, \u001b[38;5;124m\"\u001b[39m\u001b[38;5;124m\"\u001b[39m)\u001b[38;5;241m.\u001b[39mreplace(\u001b[38;5;124m\"\u001b[39m\u001b[38;5;124mb\u001b[39m\u001b[38;5;124m\"\u001b[39m, \u001b[38;5;124m\"\u001b[39m\u001b[38;5;124m\"\u001b[39m) \u001b[38;5;241m+\u001b[39m \u001b[38;5;124m\"\u001b[39m\u001b[38;5;124mb\u001b[39m\u001b[38;5;124m\"\u001b[39m\n\u001b[1;32m--> 100\u001b[0m     f \u001b[38;5;241m=\u001b[39m \u001b[38;5;28mself\u001b[39m\u001b[38;5;241m.\u001b[39mfs\u001b[38;5;241m.\u001b[39mopen(\u001b[38;5;28mself\u001b[39m\u001b[38;5;241m.\u001b[39mpath, mode\u001b[38;5;241m=\u001b[39mmode)\n\u001b[0;32m    102\u001b[0m     \u001b[38;5;28mself\u001b[39m\u001b[38;5;241m.\u001b[39mfobjects \u001b[38;5;241m=\u001b[39m [f]\n\u001b[0;32m    104\u001b[0m     \u001b[38;5;28;01mif\u001b[39;00m \u001b[38;5;28mself\u001b[39m\u001b[38;5;241m.\u001b[39mcompression \u001b[38;5;129;01mis\u001b[39;00m \u001b[38;5;129;01mnot\u001b[39;00m \u001b[38;5;28;01mNone\u001b[39;00m:\n",
      "File \u001b[1;32m~\\anaconda3\\Lib\\site-packages\\fsspec\\spec.py:1307\u001b[0m, in \u001b[0;36mAbstractFileSystem.open\u001b[1;34m(self, path, mode, block_size, cache_options, compression, **kwargs)\u001b[0m\n\u001b[0;32m   1305\u001b[0m \u001b[38;5;28;01melse\u001b[39;00m:\n\u001b[0;32m   1306\u001b[0m     ac \u001b[38;5;241m=\u001b[39m kwargs\u001b[38;5;241m.\u001b[39mpop(\u001b[38;5;124m\"\u001b[39m\u001b[38;5;124mautocommit\u001b[39m\u001b[38;5;124m\"\u001b[39m, \u001b[38;5;129;01mnot\u001b[39;00m \u001b[38;5;28mself\u001b[39m\u001b[38;5;241m.\u001b[39m_intrans)\n\u001b[1;32m-> 1307\u001b[0m     f \u001b[38;5;241m=\u001b[39m \u001b[38;5;28mself\u001b[39m\u001b[38;5;241m.\u001b[39m_open(\n\u001b[0;32m   1308\u001b[0m         path,\n\u001b[0;32m   1309\u001b[0m         mode\u001b[38;5;241m=\u001b[39mmode,\n\u001b[0;32m   1310\u001b[0m         block_size\u001b[38;5;241m=\u001b[39mblock_size,\n\u001b[0;32m   1311\u001b[0m         autocommit\u001b[38;5;241m=\u001b[39mac,\n\u001b[0;32m   1312\u001b[0m         cache_options\u001b[38;5;241m=\u001b[39mcache_options,\n\u001b[0;32m   1313\u001b[0m         \u001b[38;5;241m*\u001b[39m\u001b[38;5;241m*\u001b[39mkwargs,\n\u001b[0;32m   1314\u001b[0m     )\n\u001b[0;32m   1315\u001b[0m     \u001b[38;5;28;01mif\u001b[39;00m compression \u001b[38;5;129;01mis\u001b[39;00m \u001b[38;5;129;01mnot\u001b[39;00m \u001b[38;5;28;01mNone\u001b[39;00m:\n\u001b[0;32m   1316\u001b[0m         \u001b[38;5;28;01mfrom\u001b[39;00m \u001b[38;5;21;01mfsspec\u001b[39;00m\u001b[38;5;21;01m.\u001b[39;00m\u001b[38;5;21;01mcompression\u001b[39;00m \u001b[38;5;28;01mimport\u001b[39;00m compr\n",
      "File \u001b[1;32m~\\anaconda3\\Lib\\site-packages\\fsspec\\implementations\\local.py:180\u001b[0m, in \u001b[0;36mLocalFileSystem._open\u001b[1;34m(self, path, mode, block_size, **kwargs)\u001b[0m\n\u001b[0;32m    178\u001b[0m \u001b[38;5;28;01mif\u001b[39;00m \u001b[38;5;28mself\u001b[39m\u001b[38;5;241m.\u001b[39mauto_mkdir \u001b[38;5;129;01mand\u001b[39;00m \u001b[38;5;124m\"\u001b[39m\u001b[38;5;124mw\u001b[39m\u001b[38;5;124m\"\u001b[39m \u001b[38;5;129;01min\u001b[39;00m mode:\n\u001b[0;32m    179\u001b[0m     \u001b[38;5;28mself\u001b[39m\u001b[38;5;241m.\u001b[39mmakedirs(\u001b[38;5;28mself\u001b[39m\u001b[38;5;241m.\u001b[39m_parent(path), exist_ok\u001b[38;5;241m=\u001b[39m\u001b[38;5;28;01mTrue\u001b[39;00m)\n\u001b[1;32m--> 180\u001b[0m \u001b[38;5;28;01mreturn\u001b[39;00m LocalFileOpener(path, mode, fs\u001b[38;5;241m=\u001b[39m\u001b[38;5;28mself\u001b[39m, \u001b[38;5;241m*\u001b[39m\u001b[38;5;241m*\u001b[39mkwargs)\n",
      "File \u001b[1;32m~\\anaconda3\\Lib\\site-packages\\fsspec\\implementations\\local.py:302\u001b[0m, in \u001b[0;36mLocalFileOpener.__init__\u001b[1;34m(self, path, mode, autocommit, fs, compression, **kwargs)\u001b[0m\n\u001b[0;32m    300\u001b[0m \u001b[38;5;28mself\u001b[39m\u001b[38;5;241m.\u001b[39mcompression \u001b[38;5;241m=\u001b[39m get_compression(path, compression)\n\u001b[0;32m    301\u001b[0m \u001b[38;5;28mself\u001b[39m\u001b[38;5;241m.\u001b[39mblocksize \u001b[38;5;241m=\u001b[39m io\u001b[38;5;241m.\u001b[39mDEFAULT_BUFFER_SIZE\n\u001b[1;32m--> 302\u001b[0m \u001b[38;5;28mself\u001b[39m\u001b[38;5;241m.\u001b[39m_open()\n",
      "File \u001b[1;32m~\\anaconda3\\Lib\\site-packages\\fsspec\\implementations\\local.py:307\u001b[0m, in \u001b[0;36mLocalFileOpener._open\u001b[1;34m(self)\u001b[0m\n\u001b[0;32m    305\u001b[0m \u001b[38;5;28;01mif\u001b[39;00m \u001b[38;5;28mself\u001b[39m\u001b[38;5;241m.\u001b[39mf \u001b[38;5;129;01mis\u001b[39;00m \u001b[38;5;28;01mNone\u001b[39;00m \u001b[38;5;129;01mor\u001b[39;00m \u001b[38;5;28mself\u001b[39m\u001b[38;5;241m.\u001b[39mf\u001b[38;5;241m.\u001b[39mclosed:\n\u001b[0;32m    306\u001b[0m     \u001b[38;5;28;01mif\u001b[39;00m \u001b[38;5;28mself\u001b[39m\u001b[38;5;241m.\u001b[39mautocommit \u001b[38;5;129;01mor\u001b[39;00m \u001b[38;5;124m\"\u001b[39m\u001b[38;5;124mw\u001b[39m\u001b[38;5;124m\"\u001b[39m \u001b[38;5;129;01mnot\u001b[39;00m \u001b[38;5;129;01min\u001b[39;00m \u001b[38;5;28mself\u001b[39m\u001b[38;5;241m.\u001b[39mmode:\n\u001b[1;32m--> 307\u001b[0m         \u001b[38;5;28mself\u001b[39m\u001b[38;5;241m.\u001b[39mf \u001b[38;5;241m=\u001b[39m \u001b[38;5;28mopen\u001b[39m(\u001b[38;5;28mself\u001b[39m\u001b[38;5;241m.\u001b[39mpath, mode\u001b[38;5;241m=\u001b[39m\u001b[38;5;28mself\u001b[39m\u001b[38;5;241m.\u001b[39mmode)\n\u001b[0;32m    308\u001b[0m         \u001b[38;5;28;01mif\u001b[39;00m \u001b[38;5;28mself\u001b[39m\u001b[38;5;241m.\u001b[39mcompression:\n\u001b[0;32m    309\u001b[0m             compress \u001b[38;5;241m=\u001b[39m compr[\u001b[38;5;28mself\u001b[39m\u001b[38;5;241m.\u001b[39mcompression]\n",
      "\u001b[1;31mFileNotFoundError\u001b[0m: [Errno 2] No such file or directory: 'C:/Users/h/Downloads/Heart_Disease_Dataset.csv'"
     ]
    }
   ],
   "source": [
    "# Load the dataset\n",
    "file_path = \"C://Users//h//Downloads//Heart_Disease_Dataset.csv\"\n",
    "data = pd.read_csv(file_path)\n",
    "data.head()"
   ]
  },
  {
   "cell_type": "markdown",
   "id": "d7f4e762-be5b-4a71-8278-fb824e4fb4f4",
   "metadata": {},
   "source": [
    "## Exploring Dataset Columns"
   ]
  },
  {
   "cell_type": "code",
   "execution_count": null,
   "id": "4654f9a6-d1e7-4971-ad97-9545b4191a15",
   "metadata": {},
   "outputs": [],
   "source": [
    "data.columns"
   ]
  },
  {
   "cell_type": "markdown",
   "id": "fdf2d41b-baa6-4a3d-903d-0f64b3a1a882",
   "metadata": {},
   "source": [
    "### Overview of the Thirteen Dataset Attributes\n",
    "\n",
    "age: The person's age in years\r\n",
    "\r\n",
    "sex: The person's sex (1 = male, 0 = female)\r\n",
    "\r\n",
    "cp: The chest pain experienced (Value 1: typical angina, Value 2: atypical angina, Value 3: non-anginal pain, Value 4: asymptomatic)\r\n",
    "\r\n",
    "trestbps: The person's resting blood pressure (mm Hg on admission to the hospital)\r\n",
    "\r\n",
    "chol: The person's cholesterol measurement in mg/dl\r\n",
    "\r\n",
    "fbs: The person's fasting blood sugar (> 120 mg/dl, 1 = true; 0 = false)\r\n",
    "\r\n",
    "restecg: Resting electrocardiographic measurement (0 = normal, 1 = having ST-T wave abnormality, 2 = showing probable or definite left ventricular hypertrophy by Estes' criteria)\r\n",
    "\r\n",
    "thalach: The person's maximum heart rate achieved\r\n",
    "\r\n",
    "exang: Exercise induced angina (1 = yes; 0 = no)\r\n",
    "\r\n",
    "oldpeak: ST depression induced by exercise relative to rest\r\n",
    "\r\n",
    "slope: the slope of the peak exercise ST segment (Value 1: upsloping, Value 2: flat, Value 3: downsloping)\r\n",
    "\r\n",
    "ca: The number of major vessels (0-3)\r\n",
    "\r\n",
    "thal: A blood disorder called thalassemia (3 = normal; 6 = fixed defect; 7 = reversable defect)\r\n",
    "\r\n",
    "num: Heart disease (0 = no, 1 = yes)"
   ]
  },
  {
   "cell_type": "markdown",
   "id": "e0303c4d-3ee6-46e2-8867-9f9e387ac9d1",
   "metadata": {},
   "source": [
    "## Data Preprocessing"
   ]
  },
  {
   "cell_type": "markdown",
   "id": "73da9013-a171-451b-9fa5-787d77e16484",
   "metadata": {},
   "source": [
    "#### Check for missing values"
   ]
  },
  {
   "cell_type": "code",
   "execution_count": null,
   "id": "e3ad9083-9a70-43d9-99c1-7e7b4503ca5f",
   "metadata": {},
   "outputs": [],
   "source": [
    "data.isnull().sum()"
   ]
  },
  {
   "cell_type": "markdown",
   "id": "8b88a35f-9233-4746-bdfd-5d532004ae18",
   "metadata": {},
   "source": [
    "##### There is NO MISSING Values in our Dataset"
   ]
  },
  {
   "cell_type": "markdown",
   "id": "9c149282-2e40-4a67-b363-018bb91c52c1",
   "metadata": {},
   "source": [
    "## Heart Disease Rate in the Population"
   ]
  },
  {
   "cell_type": "code",
   "execution_count": null,
   "id": "45e57e47-2baf-4c7b-b8fb-006ee877ca4e",
   "metadata": {},
   "outputs": [],
   "source": [
    "## Grouping the data by the 'num' column and calculating the size of each group\n",
    "num=data.groupby('num').size()\n",
    "num"
   ]
  },
  {
   "cell_type": "code",
   "execution_count": null,
   "id": "22c51681-d535-4fd2-9a99-8c17b147387c",
   "metadata": {},
   "outputs": [],
   "source": [
    "# Converting Numerical Data into Categorical Data\n",
    "def heart_disease(row):\n",
    "    if row == 0:\n",
    "        return 'Absence'\n",
    "    elif row == 1:\n",
    "        return 'Presence'"
   ]
  },
  {
   "cell_type": "code",
   "execution_count": null,
   "id": "2ccf90b1-93ac-4b69-8be8-7e3d46e464b0",
   "metadata": {},
   "outputs": [],
   "source": [
    "# Applying converted data into our dataset with new column - Heart_Disease\n",
    "data['Heart_Disease'] = data['num'].apply(heart_disease)\n",
    "data.head()"
   ]
  },
  {
   "cell_type": "code",
   "execution_count": null,
   "id": "01656402-61d6-4b7f-b58b-46550f39faed",
   "metadata": {},
   "outputs": [],
   "source": [
    "# Grouping by Heart_Disease to get the count\n",
    "hd = data.groupby('Heart_Disease').size()\n",
    "hd"
   ]
  },
  {
   "cell_type": "code",
   "execution_count": null,
   "id": "d7ea128a-cfea-447b-b444-996536555afa",
   "metadata": {},
   "outputs": [],
   "source": [
    "# Pie Chart Creation of Heart Disease Population % using Matplotlib\n",
    "plt.figure(figsize=(5,7))\n",
    "plt.pie(hd, labels=['Absence', 'Presence'], autopct='%0.0f%%', startangle=90, colors=['#66b3ff', '#ff6666'])\n",
    "plt.title('Heart Disease Population %', fontsize=20)\n",
    "plt.show()"
   ]
  },
  {
   "cell_type": "markdown",
   "id": "30a30dd2-9f2a-4f61-a356-ed6a31bee2b9",
   "metadata": {},
   "source": [
    "In our dataset:\n",
    "\n",
    "46% of individuals have heart disease.\n",
    "\n",
    "54% of individuals do not have heart disease."
   ]
  },
  {
   "cell_type": "code",
   "execution_count": null,
   "id": "bd9358b0-9f06-41fa-a9c0-5cfdbad0e9ed",
   "metadata": {},
   "outputs": [],
   "source": [
    "# plotting countplot of population age using matplotlib and seaborn\n",
    "\n",
    "plt.figure(figsize=(13,13))\n",
    "plt.title('Population Age')\n",
    "sns.countplot(x='age', data=data,hue=\"age\", palette='bright',dodge=False)\n",
    "plt.xlabel('Age')\n",
    "plt.ylabel('Count')\n",
    "plt.show()"
   ]
  },
  {
   "cell_type": "markdown",
   "id": "42cadcdc-fb9a-4578-a3d7-af96397a02f0",
   "metadata": {},
   "source": [
    "⇒ we can observe the count of population according to the their age eg. young, middle-age,senior and elder people"
   ]
  },
  {
   "cell_type": "code",
   "execution_count": null,
   "id": "b7bd57b5-eba1-469f-9f07-7c5fa20d1e0d",
   "metadata": {},
   "outputs": [],
   "source": [
    "## Statistical Analysis\n",
    "\n",
    "# Calculate Minimum Age\n",
    "Min_Age = data['age'].min()\n",
    "\n",
    "# Calculate Maximum Age\n",
    "Max_Age = data['age'].max()\n",
    "\n",
    "# Calculate Mean Age\n",
    "Mean_Age = data['age'].mean()\n",
    "\n",
    "print(\"Minimum Age =\", Min_Age)\n",
    "print(\"Maximum Age =\", Max_Age)\n",
    "print(\"Mean Age =\", Mean_Age)"
   ]
  },
  {
   "cell_type": "code",
   "execution_count": null,
   "id": "69466d2d-46b3-4cfb-8d72-f9a3c4960cc5",
   "metadata": {},
   "outputs": [],
   "source": [
    "#Categorical Analysis\n",
    "\n",
    "Young_Ages=data[(data['age']>=29) & (data['age']<40)]\n",
    "Middle_Ages=data[(data['age']>=40) & (data['age']<55)]\n",
    "Senior_Ages=data[(data['age']>=55) & (data['age']<65)]\n",
    "Elderly_Ages=data[(data['age']>65)]\n",
    "print('Young Ages =',len(Young_Ages))\n",
    "print('Middle Ages =',len(Middle_Ages))\n",
    "print('Senior Ages =',len(Senior_Ages))\n",
    "print('Elderly Ages =',len(Elderly_Ages))"
   ]
  },
  {
   "cell_type": "code",
   "execution_count": null,
   "id": "0202ae8b-5b32-4f22-920a-5e065b4995b1",
   "metadata": {},
   "outputs": [],
   "source": [
    "#Bar Plot Creation of Age Category using MatplotLib and Seaborn\n",
    "# Ensure categories are a list\n",
    "categories = ['Young_Ages', 'Middle_Ages', 'Senior_Ages', 'Elderly_Ages']\n",
    "counts = [len(Young_Ages), len(Middle_Ages), len(Senior_Ages), len(Elderly_Ages)]\n",
    "    \n",
    "# Create the bar plot\n",
    "sns.barplot(x=categories, y=counts, hue=categories, dodge=False)\n",
    "\n",
    "# Set the title and labels\n",
    "plt.title('Distribution of Age Categories', fontsize=17)\n",
    "plt.xlabel('Age Category', fontsize=15)\n",
    "plt.ylabel('Count', fontsize=15)\n",
    "plt.show()"
   ]
  },
  {
   "cell_type": "code",
   "execution_count": null,
   "id": "da51bc77-207d-4339-b3a0-2eb4b7fe13c3",
   "metadata": {},
   "outputs": [],
   "source": [
    "#Converting Numerical Data into Categorical Data\n",
    "\n",
    "def gender(row):\n",
    "    if row==1:\n",
    "        return 'Male'\n",
    "    elif row==0:\n",
    "        return 'Female'"
   ]
  },
  {
   "cell_type": "code",
   "execution_count": null,
   "id": "0a769a66-a98a-44f8-aa56-471e14990608",
   "metadata": {},
   "outputs": [],
   "source": [
    "#Applying converted data into our dataset with new column - sex1\n",
    "\n",
    "data['sex1']=data['sex'].apply(gender)\n",
    "data.head()"
   ]
  },
  {
   "cell_type": "code",
   "execution_count": null,
   "id": "258ccaa8-a312-48f7-a015-c9eec9356bc9",
   "metadata": {},
   "outputs": [],
   "source": [
    "#Converting Numerical Data into Categorical Data\n",
    "\n",
    "def age_Category(row):\n",
    "    if row>=29 and row<40:\n",
    "        return 'Young Age'\n",
    "    elif row>=40 and row<55:\n",
    "        return 'Middle Age'\n",
    "    elif row>=55 and row<65:\n",
    "        return 'Senior Age'    \n",
    "    elif row>55:\n",
    "        return 'Elder Age'"
   ]
  },
  {
   "cell_type": "code",
   "execution_count": null,
   "id": "0e1a5645-3e20-4ec7-a956-be9f83ad08ae",
   "metadata": {},
   "outputs": [],
   "source": [
    "#Applying converted data into our dataset with new column - Age_Category\n",
    "\n",
    "data['Age_Category']=data['age'].apply(age_Category)\n",
    "data.head()"
   ]
  },
  {
   "cell_type": "code",
   "execution_count": null,
   "id": "cdf1690d-40ea-41b8-98fb-9c321bc78742",
   "metadata": {},
   "outputs": [],
   "source": [
    "#Swarm Plot Creation of Gender Based Age Category using MatplotLib and Seaborn\n",
    "\n",
    "plt.figure(figsize=(10,7))\n",
    "sns.swarmplot(x='Age_Category', y='age', hue='sex1', data=data,dodge=True, order=['Young Age','Middle Age','Senior Age','Elder Age'], palette='Oranges_r')\n",
    "plt.title('Gender Based Age Category', fontsize=17)\n",
    "plt.xlabel('Age Category', fontsize=15)\n",
    "plt.ylabel('Age', fontsize=15)\n",
    "plt.show()"
   ]
  },
  {
   "cell_type": "markdown",
   "id": "51ee65f3-2016-4cf9-badd-9b9954e0d160",
   "metadata": {},
   "source": [
    "⇒ In the given dataset, number of male population is more than the female population in each age group."
   ]
  },
  {
   "cell_type": "code",
   "execution_count": null,
   "id": "0df19659-5463-40d7-b8d3-ae7fa059ad54",
   "metadata": {},
   "outputs": [],
   "source": [
    "#Count Plot Creation of Heart Disease Based On Age Category using MatplotLib and Seaborn\n",
    "\n",
    "plt.figure(figsize=(7,5))\n",
    "hue_order=['Young Age', 'Middle Age','Senior Age','Elder Age']\n",
    "sns.countplot(x='Heart_Disease', hue='Age_Category', data=data, order=['Presence','Absence'], hue_order=hue_order)\n",
    "plt.title('Heart Disease Based On Age Category', fontsize=17)\n",
    "plt.xlabel('Heart Disease', fontsize=15)\n",
    "plt.ylabel('Counts', fontsize=15)\n",
    "plt.show()"
   ]
  },
  {
   "cell_type": "markdown",
   "id": "1c86c81b-136c-4783-a169-c97ecf963b9e",
   "metadata": {},
   "source": [
    "####  Senior Age People are most affected by Heart Disease AND Middle Age People are mostly FREE from any kind of Heart Disease"
   ]
  },
  {
   "cell_type": "code",
   "execution_count": null,
   "id": "3d829353-c85f-4227-908c-8cfbc41d9453",
   "metadata": {},
   "outputs": [],
   "source": [
    "#Count Plot Creation of Heart Disease Based on Gender using MatplotLib and Seaborn\n",
    "\n",
    "plt.figure(figsize=(7,5))\n",
    "sns.countplot(x=data['Heart_Disease'], hue='sex1', data=data, palette='BuGn_r')\n",
    "plt.xlabel('Heart Disease', fontsize=15)\n",
    "plt.ylabel('Count',fontsize=15)\n",
    "plt.legend(labels=['Male','Female'])\n",
    "plt.title('Heart Disease Based on Gender',fontsize=17)\n",
    "plt.show()"
   ]
  },
  {
   "cell_type": "markdown",
   "id": "0538ba1e-acc3-419f-b475-416fd954dbbf",
   "metadata": {},
   "source": [
    "####  We can see that Males are more prone to Heart Disease"
   ]
  },
  {
   "cell_type": "code",
   "execution_count": null,
   "id": "9a5235ac-d27f-41fd-903d-8bebd19dbdbe",
   "metadata": {},
   "outputs": [],
   "source": [
    "#Count Plot Creation of Chest Pain Experienced using MatplotLib and Seaborn\n",
    "\n",
    "sns.countplot(x=data['Heart_Disease'], hue='cp', data=data, order=['Presence','Absence'])\n",
    "plt.title('Chest Pain Experienced', fontsize=17)\n",
    "plt.xlabel('Heart Disease',fontsize=15)\n",
    "plt.ylabel('Counts',fontsize=15)\n",
    "plt.legend(labels=['Typical Angina','Atypical Angina','Non-Anginal pain','Asymptomatic'])\n",
    "plt.show()"
   ]
  },
  {
   "cell_type": "markdown",
   "id": "22f9bbf1-1463-4f15-a407-3296ddb19a53",
   "metadata": {},
   "source": [
    "####  It seems people having asymptomatic chest pain have a higher chance of heart disease"
   ]
  },
  {
   "cell_type": "markdown",
   "id": "85c61b3f-2a86-4039-8545-72d937d06020",
   "metadata": {},
   "source": [
    "#### Asymptomatic Chest pain means neither causing nor exhibiting symptoms of Heart disease."
   ]
  },
  {
   "cell_type": "code",
   "execution_count": null,
   "id": "a1911b5e-1ba0-4b1b-947e-e7cd7b8b317f",
   "metadata": {},
   "outputs": [],
   "source": [
    "#Count Plot Creation of Chest Pain Based On Gender using MatplotLib and Seaborn\n",
    "\n",
    "sns.countplot(x=data['sex1'], hue='cp', data=data)\n",
    "plt.title('Chest Pain Based On Gender', fontsize=17)\n",
    "plt.xlabel('Sex', fontsize=15)\n",
    "plt.ylabel('Counts', fontsize=15)\n",
    "plt.legend(labels=['Typical Angina','Atypical Angina','Non-Anginal pain','Asymptomatic'])\n",
    "plt.show()"
   ]
  },
  {
   "cell_type": "markdown",
   "id": "c1664ec5-4bf2-45cd-941f-5e77ab3726a5",
   "metadata": {},
   "source": [
    "####  We can see that a higher number of men are suffering from Asymptomatic type of Chest Pain"
   ]
  },
  {
   "cell_type": "code",
   "execution_count": null,
   "id": "b8c2546a-4d3d-437d-a1c8-cbdfb0f173cb",
   "metadata": {},
   "outputs": [],
   "source": [
    "#Count Plot Creation of Chest Pain Based On Age Category using MatplotLib and Seaborn\n",
    "\n",
    "sns.countplot(x=data['Age_Category'], hue='cp', data=data, order=['Young Age', 'Middle Age','Senior Age', 'Elder Age'], palette='BrBG')\n",
    "plt.title('Chest Pain Based On Age Category', fontsize=17)\n",
    "plt.xlabel('Age Category', fontsize=15)\n",
    "plt.ylabel('Counts', fontsize=15)\n",
    "plt.legend(labels=['Typical Angina','Atypical Angina','Non-Anginal pain','Asymptomatic'])\n",
    "plt.show()"
   ]
  },
  {
   "cell_type": "markdown",
   "id": "5afd8575-6429-432d-a8cd-a659d6e07f9f",
   "metadata": {},
   "source": [
    "#### There is very high number of Asymptomatic Pain in Elderly age Category"
   ]
  },
  {
   "cell_type": "code",
   "execution_count": null,
   "id": "dda71861-1d7b-435e-a88e-b2a567658ee6",
   "metadata": {},
   "outputs": [],
   "source": [
    "#Bar Plot Creation of Person's Resting Blood Pressure (mm Hg) using MatplotLib and Seaborn\n",
    "\n",
    "sns.barplot(x='sex1', y='trestbps', data=data, hue='sex1', palette='plasma',dodge=False)\n",
    "plt.title(\"Blood Pressure\", fontsize=17)\n",
    "plt.xlabel('Sex',fontsize=15)\n",
    "plt.ylabel(\"Person's Resting Blood Pressure (mm Hg)\", fontsize=12)\n",
    "plt.show()"
   ]
  },
  {
   "cell_type": "markdown",
   "id": "73c8dfee-58d6-47f2-8408-1a77b60430a3",
   "metadata": {},
   "source": [
    "#### Blood Pressure Rate is almost equal in Males and Females"
   ]
  },
  {
   "cell_type": "code",
   "execution_count": null,
   "id": "032cedfa-7eb3-4b5f-818c-f03b0e4b150c",
   "metadata": {},
   "outputs": [],
   "source": [
    "#Bar Plot Creation of Cholestrol Level Based On Gender using MatplotLib and Seaborn\n",
    "\n",
    "sns.barplot(x='sex1', y='chol', data=data, hue='sex1', palette='turbo',dodge=False)\n",
    "plt.title(\"Cholestrol Level Based On Gender\", fontsize=17)\n",
    "plt.xlabel('Sex',fontsize=15)\n",
    "plt.ylabel(\"Cholestrol\", fontsize=15)\n",
    "plt.show()"
   ]
  },
  {
   "cell_type": "markdown",
   "id": "38fae845-38e9-4e15-b1de-fd8f054d3976",
   "metadata": {},
   "source": [
    "####  females have little bit of higher cholesterol than males"
   ]
  },
  {
   "cell_type": "code",
   "execution_count": null,
   "id": "07ca5b0e-cfc9-4999-9a03-114d755c2603",
   "metadata": {},
   "outputs": [],
   "source": [
    "#Bar Plot Creation of Cholestrol VS Heart Disease using MatplotLib and Seaborn\n",
    "\n",
    "sns.barplot(x='Heart_Disease', y='chol', data=data, hue='Heart_Disease', palette='ocean_r', dodge=False)\n",
    "plt.title('Cholesterol VS Heart Disease', fontsize=17)\n",
    "plt.xlabel('Heart Disease', fontsize=15)\n",
    "plt.ylabel('Cholesterol', fontsize=15)\n",
    "plt.show()"
   ]
  },
  {
   "cell_type": "markdown",
   "id": "523b5e10-9841-4cfa-b3af-54505f9f374f",
   "metadata": {},
   "source": [
    "Higher Cholestrol Level results Chances Of Heart Disease"
   ]
  },
  {
   "cell_type": "code",
   "execution_count": null,
   "id": "caf694c9-3149-4cfe-b5b9-ee4b74df9574",
   "metadata": {},
   "outputs": [],
   "source": [
    "#Bar Plot Creation of Blood Pressure VS Heart Disease using MatplotLib and Seaborn\n",
    "\n",
    "sns.barplot(x='Heart_Disease', y='trestbps', data=data,hue='Heart_Disease', palette='tab20b_r', dodge=False)\n",
    "plt.title('Blood Pressure VS Heart Disease', fontsize=17)\n",
    "plt.xlabel('Heart Disease', fontsize=15)\n",
    "plt.ylabel('Blood Pressure', fontsize=15)\n",
    "plt.show()"
   ]
  },
  {
   "cell_type": "markdown",
   "id": "787695e7-e303-4eaf-9ef2-b4c9e2a31c03",
   "metadata": {},
   "source": [
    "Higher Blood Pressure Level results Chances Of Heart Disease"
   ]
  },
  {
   "cell_type": "code",
   "execution_count": null,
   "id": "6a52e810-c3fa-4105-999e-e51a5f31fe2b",
   "metadata": {},
   "outputs": [],
   "source": [
    "#Line Plot Creation of Blood Pressure VS Age using MatplotLib and Seaborn\n",
    "\n",
    "sns.lineplot(x='age', y='trestbps', data=data, color='r')\n",
    "plt.title('Blood Pressure VS Age', fontsize=17)\n",
    "plt.xlabel('Age', fontsize=15)\n",
    "plt.ylabel('Blood Pressure', fontsize=15)\n",
    "plt.show()"
   ]
  },
  {
   "cell_type": "markdown",
   "id": "fceed9e6-5f9d-400c-a4f9-ac74d4d32cd5",
   "metadata": {},
   "source": [
    " Here we can observe that Blood Pressure increases between age of 50 to 60 and somehow continue the pattern till 70"
   ]
  },
  {
   "cell_type": "code",
   "execution_count": null,
   "id": "e27d681d-5815-4c45-8cda-1fc3c98dce1b",
   "metadata": {},
   "outputs": [],
   "source": [
    "#Line Plot Creation of Cholestrol VS Age using MatplotLib and Seaborn\n",
    "\n",
    "sns.lineplot(x='age', y='chol', data=data, color='b')\n",
    "plt.title('Cholestrol VS Age', fontsize=17)\n",
    "plt.xlabel('Age', fontsize=15)\n",
    "plt.ylabel('Cholestrol', fontsize=15)\n",
    "plt.show()"
   ]
  },
  {
   "cell_type": "markdown",
   "id": "e1256eb6-6926-4132-9edd-22f5b4d02468",
   "metadata": {},
   "source": [
    " Similarly Cholestrol Increasing in the age group of 50-60"
   ]
  },
  {
   "cell_type": "code",
   "execution_count": null,
   "id": "d031cc7a-3ddd-4bb8-8351-e2ea79bd4b70",
   "metadata": {},
   "outputs": [],
   "source": [
    "#Line Plot Creation of ST Depression VS Age using MatplotLib and Seaborn\n",
    "\n",
    "sns.lineplot(x='age', y='oldpeak', data=data, color='g')\n",
    "plt.title('ST Depression VS Age', fontsize=17)\n",
    "plt.xlabel('Age', fontsize=15)\n",
    "plt.ylabel('ST depression', fontsize=15)\n",
    "plt.show()"
   ]
  },
  {
   "cell_type": "markdown",
   "id": "0ad07385-5144-404d-bf6a-915a8082fb8c",
   "metadata": {},
   "source": [
    "we can observe from here that ST depression mostly increases bw the age group of 30-40\n",
    "\n",
    "ST depression refers to a finding on an electrocardiogram, wherein the trace in the ST segment is abnormally low below the baseline.¶"
   ]
  },
  {
   "cell_type": "code",
   "execution_count": null,
   "id": "ae07ed88-8d99-4e92-888f-89e18ae8658b",
   "metadata": {},
   "outputs": [],
   "source": [
    "#Bar Plot Creation of ST depression VS Heart Disease using MatplotLib and Seaborn\n",
    "\n",
    "sns.barplot(x='sex1', y='oldpeak', data=data,hue='sex1', palette='twilight_r',dodge=False)\n",
    "plt.title('ST depression VS Heart Disease', fontsize=17)\n",
    "plt.xlabel('Sex', fontsize=15)\n",
    "plt.ylabel('ST depression', fontsize=15)\n",
    "plt.show()"
   ]
  },
  {
   "cell_type": "markdown",
   "id": "e4ae0eb1-dd27-4627-9997-4a370d4a526d",
   "metadata": {},
   "source": [
    "More Males are prone to ST depression as compare to females"
   ]
  },
  {
   "cell_type": "code",
   "execution_count": null,
   "id": "a85ecd55-f54e-47aa-9dc2-50b8d457ec24",
   "metadata": {},
   "outputs": [],
   "source": [
    "#Bar Plot Creation of Exercise With Angina VS Heart Disease using MatplotLib and Seaborn\n",
    "\n",
    "sns.barplot(x='Heart_Disease', y='exang', data=data,hue='Heart_Disease', palette='viridis',dodge=False)\n",
    "plt.title('Exercise With Angina VS Heart Disease', fontsize=17)\n",
    "plt.xlabel('Heart Disease', fontsize=15)\n",
    "plt.ylabel('Exercise With Angina', fontsize=15)\n",
    "plt.show()"
   ]
  },
  {
   "cell_type": "markdown",
   "id": "5248de63-6f98-44a9-bfa1-f090ce1bbf0e",
   "metadata": {},
   "source": [
    "If you suffer from Angina, you may be concerned that exercise will make your symptoms worse."
   ]
  },
  {
   "cell_type": "code",
   "execution_count": null,
   "id": "9be899f5-5e53-4612-9e9f-599df16dcae7",
   "metadata": {},
   "outputs": [],
   "source": [
    "#Bar Plot Creation of Exercise With Angina VS Gender using MatplotLib and Seaborn\n",
    "\n",
    "sns.barplot(x='sex1', y='exang', data=data,hue='sex1', palette='binary_r',dodge=False)\n",
    "plt.title('Exercise With Angina VS Gender', fontsize=17)\n",
    "plt.xlabel('Sex', fontsize=15)\n",
    "plt.ylabel('Exercise With Angina', fontsize=15)\n",
    "plt.show()"
   ]
  },
  {
   "cell_type": "markdown",
   "id": "1c8ff0c2-b599-49da-9788-0275c773350f",
   "metadata": {},
   "source": [
    "Males have have high Exercise Angina\n",
    "\n",
    "A type of chest pain caused by reduced blood flow to the heart."
   ]
  },
  {
   "cell_type": "code",
   "execution_count": null,
   "id": "0d4a4605-e813-4987-b62e-4a39e5dcc061",
   "metadata": {},
   "outputs": [],
   "source": [
    "#Bar Plot Creation of Fasting Blood Sugar VS Gender using MatplotLib and Seaborn\n",
    "\n",
    "sns.barplot(y='fbs', x='sex1', data=data,hue='sex1', palette='hsv',dodge=False)\n",
    "plt.title(' Fasting Blood Sugar VS Gender', fontsize=17)\n",
    "plt.xlabel('Sex', fontsize=15)\n",
    "plt.ylabel('Fasting Blood Sugar', fontsize=15)\n",
    "plt.show()"
   ]
  },
  {
   "cell_type": "markdown",
   "id": "a86f5b4c-759b-4109-b8d6-d587c9c2d061",
   "metadata": {},
   "source": [
    " Males have high no of Fasting Blood Sugar over 120"
   ]
  },
  {
   "cell_type": "code",
   "execution_count": null,
   "id": "83747643-898a-4e03-987d-7e0b1e0d0337",
   "metadata": {},
   "outputs": [],
   "source": [
    "# Select only numeric columns for correlation calculation\n",
    "numeric_data = data.select_dtypes(include=['float64', 'int64'])\n",
    "\n",
    "# Create the heatmap using only numeric data\n",
    "plt.figure(figsize=(16, 9))\n",
    "sns.heatmap(numeric_data.corr(), annot=True, linewidth=3)\n",
    "plt.title('Correlation Heatmap', fontsize=17)\n",
    "plt.show()\n"
   ]
  },
  {
   "cell_type": "code",
   "execution_count": null,
   "id": "24ee721a-9162-4870-a60d-738c7984b4cb",
   "metadata": {},
   "outputs": [],
   "source": [
    "# exporting final dataset to as csv file for Dashboarding in Power BI\n",
    "\n",
    "data.to_csv(\"D:\\my_data1.csv\", index=False)"
   ]
  },
  {
   "cell_type": "code",
   "execution_count": null,
   "id": "bc24fa3b-4c34-4578-934f-e2ccbba6d520",
   "metadata": {},
   "outputs": [],
   "source": []
  }
 ],
 "metadata": {
  "kernelspec": {
   "display_name": "Python 3 (ipykernel)",
   "language": "python",
   "name": "python3"
  },
  "language_info": {
   "codemirror_mode": {
    "name": "ipython",
    "version": 3
   },
   "file_extension": ".py",
   "mimetype": "text/x-python",
   "name": "python",
   "nbconvert_exporter": "python",
   "pygments_lexer": "ipython3",
   "version": "3.11.7"
  }
 },
 "nbformat": 4,
 "nbformat_minor": 5
}
